{
 "cells": [
  {
   "cell_type": "markdown",
   "source": [
    "# Euro-Stat-Data converting"
   ],
   "metadata": {
    "collapsed": false,
    "pycharm": {
     "name": "#%% md\n"
    }
   }
  },
  {
   "cell_type": "markdown",
   "source": [
    "This script is to load and process the Euro-Stat-Data from a .tsv-format to a .csv-format. For further information read the [README](README.md)."
   ],
   "metadata": {
    "collapsed": false,
    "pycharm": {
     "name": "#%% md\n"
    }
   }
  },
  {
   "cell_type": "markdown",
   "source": [
    "## Setup"
   ],
   "metadata": {
    "collapsed": false,
    "pycharm": {
     "name": "#%% md\n"
    }
   }
  },
  {
   "cell_type": "code",
   "execution_count": 20,
   "outputs": [],
   "source": [
    "import nrg_cb_pem\n",
    "import nrg_ind_pehnf\n",
    "import nrg_cb_em\n",
    "import nrg_cb_e\n",
    "import nrg_ind_peh\n",
    "import nrg_ind_pehap"
   ],
   "metadata": {
    "collapsed": false,
    "pycharm": {
     "name": "#%%\n"
    }
   }
  },
  {
   "cell_type": "markdown",
   "source": [
    "## Read in the data"
   ],
   "metadata": {
    "collapsed": false,
    "pycharm": {
     "name": "#%% md\n"
    }
   }
  },
  {
   "cell_type": "markdown",
   "source": [
    "Choose which file should be converted and how 'SIEC' should be displayed.\n",
    "Type of data to format:\n",
    "1. '1' = Net electricity generation by type of fuel - monthly data (nrg_cb_pem)\n",
    "2. '2' = Gross production of electricity and derived heat from non-combustible fuels by type of plant and operator (nrg_ind_pehnf)\n",
    "3. '3' = Supply, transformation and consumption of electricity - monthly data (nrg_cb_em)\n",
    "4. '4' = Supply, transformation and consumption of electricity (nrg_cb_e)\n",
    "5. '5' = Gross and net production of electricity and derived heat by type of plant and operator (nrg_ind_peh)\n",
    "6. # TODO: doppelt (nrg_ind_pehnf)\n",
    "7. '7' = Production of electricity and heat by autoproducers, by type of plant (nrg_ind_pehap)"
   ],
   "metadata": {
    "collapsed": false,
    "pycharm": {
     "name": "#%% md\n"
    }
   }
  },
  {
   "cell_type": "code",
   "execution_count": 21,
   "outputs": [],
   "source": [
    "type_of_data = '5'"
   ],
   "metadata": {
    "collapsed": false,
    "pycharm": {
     "name": "#%%\n"
    }
   }
  },
  {
   "cell_type": "markdown",
   "source": [
    "define output of 'SIEC'.\n",
    "1. True = only show the short code (e.g. 'CF')\n",
    "2. False = show the whole label (e.g. 'Combustible fuels')"
   ],
   "metadata": {
    "collapsed": false,
    "pycharm": {
     "name": "#%% md\n"
    }
   }
  },
  {
   "cell_type": "code",
   "execution_count": 22,
   "outputs": [],
   "source": [
    "siec_as_code = False"
   ],
   "metadata": {
    "collapsed": false,
    "pycharm": {
     "name": "#%%\n"
    }
   }
  },
  {
   "cell_type": "code",
   "execution_count": 23,
   "outputs": [],
   "source": [
    "if type_of_data == '1':\n",
    "    nrg_cb_pem.nrg_cb_pem_main(siec_as_code)\n",
    "elif type_of_data == '2':\n",
    "    nrg_ind_pehnf.nrg_ind_pehnf_main(siec_as_code)\n",
    "if type_of_data == '3':\n",
    "    nrg_cb_em.nrg_cb_em_main(siec_as_code)\n",
    "elif type_of_data == '4':\n",
    "    nrg_cb_e.nrg_cb_e_main(siec_as_code)\n",
    "if type_of_data == '5':\n",
    "    nrg_ind_peh.nrg_ind_peh_main(siec_as_code)\n",
    "# TODO: 6 doppelt\n",
    "elif type_of_data == '7':\n",
    "    nrg_ind_pehap.nrg_ind_pehab_main(siec_as_code)"
   ],
   "metadata": {
    "collapsed": false,
    "pycharm": {
     "name": "#%%\n"
    }
   }
  }
 ],
 "metadata": {
  "kernelspec": {
   "display_name": "Python 3",
   "language": "python",
   "name": "python3"
  },
  "language_info": {
   "codemirror_mode": {
    "name": "ipython",
    "version": 2
   },
   "file_extension": ".py",
   "mimetype": "text/x-python",
   "name": "python",
   "nbconvert_exporter": "python",
   "pygments_lexer": "ipython2",
   "version": "2.7.6"
  }
 },
 "nbformat": 4,
 "nbformat_minor": 0
}
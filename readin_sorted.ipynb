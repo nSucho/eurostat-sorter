{
 "cells": [
  {
   "cell_type": "markdown",
   "source": [
    "# Read in the sorted data\n",
    "This notebook reads in the sorted data and converts it into a DataFrame"
   ],
   "metadata": {
    "collapsed": false,
    "pycharm": {
     "name": "#%% md\n"
    }
   }
  },
  {
   "cell_type": "markdown",
   "source": [
    "## Setup"
   ],
   "metadata": {
    "collapsed": false,
    "pycharm": {
     "name": "#%% md\n"
    }
   }
  },
  {
   "cell_type": "code",
   "execution_count": 23,
   "outputs": [],
   "source": [
    "import pandas as pd"
   ],
   "metadata": {
    "collapsed": false,
    "pycharm": {
     "name": "#%%\n"
    }
   }
  },
  {
   "cell_type": "markdown",
   "source": [
    "## Read in the sorted data from the [main](main.ipynb)"
   ],
   "metadata": {
    "collapsed": false,
    "pycharm": {
     "name": "#%% md\n"
    }
   }
  },
  {
   "cell_type": "markdown",
   "source": [
    "Type of data to format:\n",
    "1. '1' = Net electricity generation by type of fuel - monthly data (nrg_cb_pem)\n",
    "2. '2' = Gross production of electricity and derived heat from non-combustible fuels by type of plant and operator (nrg_ind_pehnf)\n",
    "3. '3' = Supply, transformation and consumption of electricity - monthly data (nrg_cb_em)\n",
    "4. '4' = Supply, transformation and consumption of electricity (nrg_cb_e)\n",
    "5. '5' = Gross and net production of electricity and derived heat by type of plant and operator (nrg_ind_peh)\n",
    "6. '6' = Production of electricity and heat by autoproducers, by type of plant (nrg_ind_pehap)"
   ],
   "metadata": {
    "collapsed": false,
    "pycharm": {
     "name": "#%% md\n"
    }
   }
  },
  {
   "cell_type": "code",
   "execution_count": 24,
   "outputs": [],
   "source": [
    "type_of_data = '2'"
   ],
   "metadata": {
    "collapsed": false,
    "pycharm": {
     "name": "#%%\n"
    }
   }
  },
  {
   "cell_type": "code",
   "execution_count": 25,
   "outputs": [],
   "source": [
    "if type_of_data == '1':\n",
    "    data = pd.read_csv(\"data/sorted/nrg_cb_pem_sorted.csv\", sep='\\t', encoding='utf-8')\n",
    "elif type_of_data == '2':\n",
    "    data = pd.read_csv(\"data/sorted/nrg_ind_pehnf_sorted.csv\", sep='\\t', encoding='utf-8')\n",
    "if type_of_data == '3':\n",
    "    data = pd.read_csv(\"data/sorted/nrg_cb_em_sorted.csv\", sep='\\t', encoding='utf-8')\n",
    "elif type_of_data == '4':\n",
    "    data = pd.read_csv(\"data/sorted/nrg_cb_e_sorted.csv\", sep='\\t', encoding='utf-8')\n",
    "if type_of_data == '5':\n",
    "    data = pd.read_csv(\"data/sorted/nrg_ind_peh_sorted.csv\", sep='\\t', encoding='utf-8')\n",
    "elif type_of_data == '6':\n",
    "    data = pd.read_csv(\"data/sorted/nrg_ind_pehap_sorted.csv\", sep='\\t', encoding='utf-8')"
   ],
   "metadata": {
    "collapsed": false,
    "pycharm": {
     "name": "#%%\n"
    }
   }
  },
  {
   "cell_type": "code",
   "execution_count": 26,
   "outputs": [
    {
     "name": "stdout",
     "output_type": "stream",
     "text": [
      "        DateTime Plants  Operator nrg_bal  \\\n",
      "0           2020    CHP  PRR_AUTO     GEP   \n",
      "1           2019    CHP  PRR_AUTO     GEP   \n",
      "2           2018    CHP  PRR_AUTO     GEP   \n",
      "3           2017    CHP  PRR_AUTO     GEP   \n",
      "4           2016    CHP  PRR_AUTO     GEP   \n",
      "...          ...    ...       ...     ...   \n",
      "259930      1994  TOTAL     TOTAL     GHP   \n",
      "259931      1993  TOTAL     TOTAL     GHP   \n",
      "259932      1992  TOTAL     TOTAL     GHP   \n",
      "259933      1991  TOTAL     TOTAL     GHP   \n",
      "259934      1990  TOTAL     TOTAL     GHP   \n",
      "\n",
      "                                                   SIEC Unit Geo  \\\n",
      "0                  Nuclear fuels and other fuels n.e.c.  GWH  AL   \n",
      "1                  Nuclear fuels and other fuels n.e.c.  GWH  AL   \n",
      "2                  Nuclear fuels and other fuels n.e.c.  GWH  AL   \n",
      "3                  Nuclear fuels and other fuels n.e.c.  GWH  AL   \n",
      "4                  Nuclear fuels and other fuels n.e.c.  GWH  AL   \n",
      "...                                                 ...  ...  ..   \n",
      "259930  Other fuels n.e.c. - heat from chemical sources   TJ  XK   \n",
      "259931  Other fuels n.e.c. - heat from chemical sources   TJ  XK   \n",
      "259932  Other fuels n.e.c. - heat from chemical sources   TJ  XK   \n",
      "259933  Other fuels n.e.c. - heat from chemical sources   TJ  XK   \n",
      "259934  Other fuels n.e.c. - heat from chemical sources   TJ  XK   \n",
      "\n",
      "        NetGeneration  \n",
      "0                 0.0  \n",
      "1                 0.0  \n",
      "2                 0.0  \n",
      "3                 0.0  \n",
      "4                 0.0  \n",
      "...               ...  \n",
      "259930            NaN  \n",
      "259931            NaN  \n",
      "259932            NaN  \n",
      "259933            NaN  \n",
      "259934            NaN  \n",
      "\n",
      "[259935 rows x 8 columns]\n"
     ]
    }
   ],
   "source": [
    "print(data)"
   ],
   "metadata": {
    "collapsed": false,
    "pycharm": {
     "name": "#%%\n"
    }
   }
  },
  {
   "cell_type": "markdown",
   "source": [
    "## Algorithms"
   ],
   "metadata": {
    "collapsed": false,
    "pycharm": {
     "name": "#%% md\n"
    }
   }
  },
  {
   "cell_type": "code",
   "execution_count": 26,
   "outputs": [],
   "source": [],
   "metadata": {
    "collapsed": false,
    "pycharm": {
     "name": "#%%\n"
    }
   }
  }
 ],
 "metadata": {
  "kernelspec": {
   "display_name": "Python 3",
   "language": "python",
   "name": "python3"
  },
  "language_info": {
   "codemirror_mode": {
    "name": "ipython",
    "version": 2
   },
   "file_extension": ".py",
   "mimetype": "text/x-python",
   "name": "python",
   "nbconvert_exporter": "python",
   "pygments_lexer": "ipython2",
   "version": "2.7.6"
  }
 },
 "nbformat": 4,
 "nbformat_minor": 0
}